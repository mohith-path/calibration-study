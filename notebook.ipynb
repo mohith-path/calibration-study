{
 "cells": [
  {
   "cell_type": "code",
   "execution_count": 43,
   "metadata": {},
   "outputs": [],
   "source": [
    "import csv\n",
    "import numpy as np\n",
    "\n",
    "from typing import Tuple\n",
    "from scipy.spatial.transform import Rotation as R\n",
    "\n",
    "from utils import to_transformation_matrix, register, compute_errors"
   ]
  },
  {
   "cell_type": "code",
   "execution_count": 44,
   "metadata": {},
   "outputs": [],
   "source": [
    "def extract_data(file_path: str, randomize: bool = True, seed: int = 123) -> Tuple[np.ndarray, np.ndarray]:\n",
    "    \"\"\"\n",
    "    Read csv file and generate Laser_point and Robot_T_tool0\n",
    "    \"\"\"\n",
    "    file = open(file_path)\n",
    "    csv_reader = csv.reader(file)\n",
    "\n",
    "    _ = next(csv_reader)\n",
    "    rows = []\n",
    "    for row in csv_reader:\n",
    "        row = [float(i) for i in row[1:]]\n",
    "        rows.append(row)\n",
    "    rows = np.array(rows)\n",
    "\n",
    "    if randomize:\n",
    "        np.random.seed(seed)\n",
    "        np.random.shuffle(rows)\n",
    "\n",
    "    return rows[:, :3], rows[:, 3:]"
   ]
  },
  {
   "cell_type": "code",
   "execution_count": 45,
   "metadata": {},
   "outputs": [],
   "source": [
    "# Comupted using TCP calibration with laser\n",
    "tool0_T_SMR = np.array([\n",
    "    [1, 0, 0, 0.68],\n",
    "    [0, 1, 0, 1.83],\n",
    "    [0, 0, 1, 28.76],\n",
    "    [0, 0, 0, 1]\n",
    "])\n",
    "\n",
    "# Extracted from laser software\n",
    "Laser_T_swing_chop = np.array([\n",
    "    [-0.9999, -0.0082, 0.0079, 2513.5597],\n",
    "    [0.0083, -1.0000, 0.0027, -270.4662],\n",
    "    [0.0079, 0.0028, 1.0000, -366.2441],\n",
    "    [0, 0, 0, 1]\n",
    "])\n",
    "\n",
    "swing_chop_T_joint1 = np.array([\n",
    "    [-1, 0, 0, 0],\n",
    "    [0, -1, 0, 0],\n",
    "    [0, 0, 1, 0],\n",
    "    [0, 0, 0, 1]\n",
    "])\n",
    "\n",
    "# Extracted from UR calibration file\n",
    "RobotBase_T_joint1 = np.eye(4)\n",
    "RobotBase_T_joint1[:3, :3] = R.from_euler('xyz', [0, 0, 6.93481305019672e-08], degrees=False).as_matrix()\n",
    "RobotBase_T_joint1[:3, 3] = [0, 0, 181.0117558098409]\n",
    "\n",
    "# Transformation matrix from swing-chop method\n",
    "Laser_T_RobotBase_current_method =  Laser_T_swing_chop @ swing_chop_T_joint1 @ np.linalg.inv(RobotBase_T_joint1)"
   ]
  },
  {
   "cell_type": "code",
   "execution_count": 46,
   "metadata": {},
   "outputs": [],
   "source": [
    "Laser_points, RobotBase_T_tool0 = extract_data(\"data.csv\", randomize=True, seed=0)\n",
    "\n",
    "RobotBase_T_tool0 = to_transformation_matrix(RobotBase_T_tool0)\n",
    "\n",
    "RobotBase_T_SMR = np.matmul(RobotBase_T_tool0, tool0_T_SMR[None])\n",
    "RobotBase_points = RobotBase_T_SMR[:, :3, 3]"
   ]
  },
  {
   "cell_type": "code",
   "execution_count": 47,
   "metadata": {},
   "outputs": [],
   "source": [
    "# Split some data for optimization and remaining for testing\n",
    "PARTITION = 45\n",
    "\n",
    "Laser_T_RobotBase_alternate_method = register(RobotBase_points[:PARTITION], Laser_points[:PARTITION])"
   ]
  },
  {
   "cell_type": "code",
   "execution_count": 48,
   "metadata": {},
   "outputs": [
    {
     "name": "stdout",
     "output_type": "stream",
     "text": [
      "Current Method:\n",
      "Mean: 0.92mm\t Max: 1.85mm \n",
      "\n",
      "Alternate Method:\n",
      "Mean: 0.79mm\t Max: 1.44mm\n"
     ]
    }
   ],
   "source": [
    "# Compute error from both methods\n",
    "error = compute_errors(RobotBase_points, Laser_points, Laser_T_RobotBase_current_method)\n",
    "print(\"Current Method:\")\n",
    "print(f\"Mean: {error.mean():0.2f}mm\\t Max: {error.max():0.2f}mm \\n\")\n",
    "\n",
    "error = compute_errors(RobotBase_points[PARTITION:], Laser_points[PARTITION:], Laser_T_RobotBase_alternate_method)\n",
    "print(\"Alternate Method:\")\n",
    "print(f\"Mean: {error.mean():0.2f}mm\\t Max: {error.max():0.2f}mm\")"
   ]
  }
 ],
 "metadata": {
  "kernelspec": {
   "display_name": "Python 3",
   "language": "python",
   "name": "python3"
  },
  "language_info": {
   "codemirror_mode": {
    "name": "ipython",
    "version": 3
   },
   "file_extension": ".py",
   "mimetype": "text/x-python",
   "name": "python",
   "nbconvert_exporter": "python",
   "pygments_lexer": "ipython3",
   "version": "3.9.16"
  },
  "orig_nbformat": 4
 },
 "nbformat": 4,
 "nbformat_minor": 2
}
